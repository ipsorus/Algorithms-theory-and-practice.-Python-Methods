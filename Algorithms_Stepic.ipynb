{
 "cells": [
  {
   "cell_type": "code",
   "execution_count": 9,
   "metadata": {},
   "outputs": [
    {
     "name": "stdout",
     "output_type": "stream",
     "text": [
      "3\n",
      "0\n",
      "1\n",
      "1\n"
     ]
    }
   ],
   "source": [
    "def fib(n):\n",
    "    fibList = [0,1,1]\n",
    "    if n == 0:\n",
    "        return 0\n",
    "    elif n <= 2 and n > 0:\n",
    "        return 1    \n",
    "    else:\n",
    "        for i in range(3, n + 1):\n",
    "            res = fibList[i-1] + fibList[i-2]\n",
    "            fibList.append(res)\n",
    "    return res\n",
    "            \n",
    "    \n",
    "\n",
    "def main():\n",
    "    n = int(input()) #ввод количества чисел фибоначчи\n",
    "    for j in range(n):\n",
    "        print(fib(j))\n",
    "\n",
    "\n",
    "if __name__ == \"__main__\":\n",
    "    main()"
   ]
  },
  {
   "cell_type": "code",
   "execution_count": null,
   "metadata": {},
   "outputs": [],
   "source": [
    "Чи́сла Фибона́ччи (иногда пишут Фибона́чи) — элементы числовой последовательности. \n",
    "0, 1, 1, 2, 3, 5, 8, 13, 21, 34, 55, 89, 144, 233, 377, 610, 987, 1597, 2584, 4181, 6765, 10946, 17711, …"
   ]
  },
  {
   "cell_type": "code",
   "execution_count": 12,
   "metadata": {},
   "outputs": [
    {
     "name": "stdout",
     "output_type": "stream",
     "text": [
      "5\n",
      "5\n"
     ]
    }
   ],
   "source": [
    "#Через временные переменные (каждое следующее число вычисляется из переменных, в которых хранятся два пердыдущих числа),\n",
    "#далее на новом шаге сохраняются два новых числа и т.д.\n",
    "\n",
    "a, b, n = 0, 1, int(input())\n",
    "for i in range(2, n+1):\n",
    "    a, b = b, a + b\n",
    "print(b)"
   ]
  },
  {
   "cell_type": "code",
   "execution_count": 4,
   "metadata": {},
   "outputs": [
    {
     "name": "stdout",
     "output_type": "stream",
     "text": [
      "317457\n",
      "2\n"
     ]
    }
   ],
   "source": [
    "#Описание: решение при помощи динамического программирования\n",
    "\n",
    "def fib(num):\n",
    "\n",
    "    prev, cur = 0, 1\n",
    "\n",
    "    for i in range(1, num):\n",
    "        prev, cur = cur, prev + cur\n",
    "\n",
    "    return cur\n",
    "\n",
    "\n",
    "def main():\n",
    "    n = int(input())\n",
    "    print(fib(n))\n",
    "\n",
    "if __name__ == \"__main__\":\n",
    "    main()"
   ]
  },
  {
   "cell_type": "code",
   "execution_count": 3,
   "metadata": {},
   "outputs": [
    {
     "data": {
      "text/plain": [
       "7"
      ]
     },
     "execution_count": 3,
     "metadata": {},
     "output_type": "execute_result"
    }
   ],
   "source": [
    "45354534534534542353454534557%10"
   ]
  },
  {
   "cell_type": "code",
   "execution_count": 12,
   "metadata": {},
   "outputs": [
    {
     "name": "stdout",
     "output_type": "stream",
     "text": [
      "317457\n",
      "2\n"
     ]
    }
   ],
   "source": [
    "#Дано число 1≤n≤107, необходимо найти последнюю цифру n-го числа Фибоначчи.\n",
    "\n",
    "\n",
    "#Sample Input:\n",
    "#317457\n",
    "\n",
    "#Sample Output:\n",
    "#2\n",
    "\n",
    "def fib_digit(n):\n",
    "    a, b = 0, 1\n",
    "    for i in range(2, n+1):\n",
    "        a, b = b, (a + b) % 10 #считаем только последние цифры в каждом числе (см.в визуализаторе)\n",
    "    return b % 10\n",
    "\n",
    "\n",
    "def main():\n",
    "    n = int(input())\n",
    "    print(fib_digit(n))\n",
    "\n",
    "\n",
    "if __name__ == \"__main__\":\n",
    "    main()"
   ]
  },
  {
   "cell_type": "code",
   "execution_count": 15,
   "metadata": {},
   "outputs": [
    {
     "name": "stdout",
     "output_type": "stream",
     "text": [
      "10 2\n",
      "1\n"
     ]
    }
   ],
   "source": [
    "def fib_mod(n, m):\n",
    "    a, b = 0, 1\n",
    "    for i in range(2, n+1):\n",
    "        a, b = b, (a + b) % 10  #считаем только последние цифры в каждом числе (см.в визуализаторе)\n",
    "    return b % m\n",
    "\n",
    "\n",
    "def main():\n",
    "    n, m = map(int, input().split())\n",
    "    print(fib_mod(n, m))\n",
    "\n",
    "\n",
    "if __name__ == \"__main__\":\n",
    "    main()"
   ]
  },
  {
   "cell_type": "code",
   "execution_count": 2,
   "metadata": {},
   "outputs": [
    {
     "name": "stdout",
     "output_type": "stream",
     "text": [
      "14159572\n",
      "63967072\n",
      "4\n"
     ]
    }
   ],
   "source": [
    "#Наибольший общий делитель\n",
    "\n",
    "# ввод целых чисел\n",
    "#a = int(input())\n",
    "#b = int(input())\n",
    "\n",
    "# Пока какое-нибудь из двух числе не будет равно 0,\n",
    "#while a != 0 and b != 0:\n",
    "    # сравнивать их между собой.\n",
    "    # Если первое число больше второго,\n",
    "    #if a > b:\n",
    "        # то находить остаток от деления его на второе число \n",
    "        # и присваивать его первой переменной\n",
    "        #a = a % b\n",
    "    # Иначе (когда второе число больше первого)\n",
    "    #else:\n",
    "        # присваивать второй переменной остаток от деления \n",
    "        # нацело второго числа на первое\n",
    "        #b = b % a\n",
    "\n",
    "# Одно из чисел содержит 0, а другое - НОД, но какое - неизвестно.\n",
    "# Проще их сложить, чем писать конструкцию if-else\n",
    "#gcd = a + b\n",
    "#print(gcd)\n",
    "#Пример выполнения:\n",
    "\n",
    "#1012\n",
    "#600\n",
    "#4\n",
    "\n",
    "a = int(input())\n",
    "b = int(input())\n",
    "\n",
    "while a != 0 and b != 0:\n",
    "    if a > b:\n",
    "        a %= b\n",
    "    else:\n",
    "        b %= a\n",
    "\n",
    "gcd = a + b\n",
    "print(gcd)"
   ]
  },
  {
   "cell_type": "code",
   "execution_count": 1,
   "metadata": {},
   "outputs": [
    {
     "name": "stdout",
     "output_type": "stream",
     "text": [
      "2.8099832782637204\n",
      "2.8818085011357724\n",
      "10.479516371446921\n",
      "275.88015669004955\n",
      "316.22776601683796\n",
      "13979.400086720374\n",
      "1516704.173924289\n",
      "84103196.75493282\n",
      "10000000000\n",
      "108836510811282.69\n",
      "1.8609928418609558e+20\n",
      "1.1173838040692942e+83\n"
     ]
    },
    {
     "ename": "OverflowError",
     "evalue": "(34, 'Result too large')",
     "output_type": "error",
     "traceback": [
      "\u001b[1;31m---------------------------------------------------------------------------\u001b[0m",
      "\u001b[1;31mOverflowError\u001b[0m                             Traceback (most recent call last)",
      "\u001b[1;32m<ipython-input-1-2ba2a9b5191b>\u001b[0m in \u001b[0;36m<module>\u001b[1;34m()\u001b[0m\n\u001b[0;32m     14\u001b[0m \u001b[0mprint\u001b[0m\u001b[1;33m(\u001b[0m\u001b[0mmath\u001b[0m\u001b[1;33m.\u001b[0m\u001b[0mlog\u001b[0m\u001b[1;33m(\u001b[0m\u001b[0mn\u001b[0m\u001b[1;33m,\u001b[0m \u001b[1;36m2\u001b[0m\u001b[1;33m)\u001b[0m \u001b[1;33m**\u001b[0m \u001b[1;33m(\u001b[0m\u001b[0mmath\u001b[0m\u001b[1;33m.\u001b[0m\u001b[0mlog\u001b[0m\u001b[1;33m(\u001b[0m\u001b[0mn\u001b[0m\u001b[1;33m,\u001b[0m \u001b[1;36m2\u001b[0m\u001b[1;33m)\u001b[0m\u001b[1;33m)\u001b[0m\u001b[1;33m)\u001b[0m\u001b[1;33m\u001b[0m\u001b[0m\n\u001b[0;32m     15\u001b[0m \u001b[0mprint\u001b[0m\u001b[1;33m(\u001b[0m\u001b[0mn\u001b[0m \u001b[1;33m**\u001b[0m \u001b[1;33m(\u001b[0m\u001b[0mmath\u001b[0m\u001b[1;33m.\u001b[0m\u001b[0mlog\u001b[0m\u001b[1;33m(\u001b[0m\u001b[0mn\u001b[0m\u001b[1;33m,\u001b[0m \u001b[1;36m2\u001b[0m\u001b[1;33m)\u001b[0m\u001b[1;33m)\u001b[0m\u001b[1;33m)\u001b[0m\u001b[1;33m\u001b[0m\u001b[0m\n\u001b[1;32m---> 16\u001b[1;33m \u001b[0mprint\u001b[0m\u001b[1;33m(\u001b[0m\u001b[0mn\u001b[0m \u001b[1;33m**\u001b[0m \u001b[1;33m(\u001b[0m\u001b[0mmath\u001b[0m\u001b[1;33m.\u001b[0m\u001b[0msqrt\u001b[0m\u001b[1;33m(\u001b[0m\u001b[0mn\u001b[0m\u001b[1;33m)\u001b[0m\u001b[1;33m)\u001b[0m\u001b[1;33m)\u001b[0m\u001b[1;33m\u001b[0m\u001b[0m\n\u001b[0m\u001b[0;32m     17\u001b[0m \u001b[0mprint\u001b[0m\u001b[1;33m(\u001b[0m\u001b[1;36m2\u001b[0m \u001b[1;33m**\u001b[0m \u001b[0mn\u001b[0m\u001b[1;33m)\u001b[0m\u001b[1;33m\u001b[0m\u001b[0m\n\u001b[0;32m     18\u001b[0m \u001b[0mprint\u001b[0m\u001b[1;33m(\u001b[0m\u001b[1;36m4\u001b[0m \u001b[1;33m**\u001b[0m \u001b[0mn\u001b[0m\u001b[1;33m)\u001b[0m\u001b[1;33m\u001b[0m\u001b[0m\n",
      "\u001b[1;31mOverflowError\u001b[0m: (34, 'Result too large')"
     ]
    }
   ],
   "source": [
    "import math\n",
    "n=100000\n",
    "\n",
    "print(math.log(math.log(n, 2)))\n",
    "print(math.sqrt(math.log(n, 4)))\n",
    "print(math.log(n, 3))\n",
    "print(math.log(n, 2) ** 2)\n",
    "print(math.sqrt(n))\n",
    "print(n / math.log(n, 5))\n",
    "print(math.log(math.factorial(n),2))\n",
    "print(3 ** math.log(n, 2))\n",
    "print(n ** 2)\n",
    "print(7 ** (math.log(n, 2)))\n",
    "print(math.log(n, 2) ** (math.log(n, 2)))\n",
    "print(n ** (math.log(n, 2)))\n",
    "print(n ** (math.sqrt(n)))\n",
    "print(2 ** n)\n",
    "print(4 ** n)\n",
    "print(2 ** (3 * n))\n",
    "print(math.factorial(n))"
   ]
  },
  {
   "cell_type": "code",
   "execution_count": 1,
   "metadata": {},
   "outputs": [
    {
     "data": {
      "text/plain": [
       "12586269025"
      ]
     },
     "execution_count": 1,
     "metadata": {},
     "output_type": "execute_result"
    }
   ],
   "source": [
    "cache = {}\n",
    "def fib(n):\n",
    "    assert n >= 0\n",
    "    if n not in cache:\n",
    "        cache[n] = n if n <= 1 else fib(n - 2) + fib(n - 1)\n",
    "    return cache[n]\n",
    "\n",
    "fib(50)"
   ]
  },
  {
   "cell_type": "code",
   "execution_count": 3,
   "metadata": {},
   "outputs": [
    {
     "data": {
      "text/plain": [
       "3561533204460626739768914905427460387141369539110154082973500638991885819498711815304829246223963373749873423083216889782034228521693267175594214186111978816819236959743284321273097535654614718808050244321699002512466203835566030351092652496815708455980825654877181538741827129421689128991879649533246136168998590044965735035810856774605383628378979290580539135791985063484992877932473487054068899476937399295193905527420792975902913836012199062687063537510151753758100626402591751183925883151617648375005313453493271681248233059858496951790113255897429539560654496639601132039360167542277472498901884679404509894269174519328918160745655327632006736189766801968534195725815421784083495026969542066047758885029695257263330719223956309043195653930347983496830801755572982419821881275569179922973415736010289561700699477021488635509784509168019589640190234350021673802856836365767446249424907273016689053388000785637444921523414602360860001530139933615215383220927084750528293779491002813557093860863839463287251443115581618266959802005566973874793475256663122039030056061200186123236430592279484254766158650545069933528061680141046574115103014532101595841822474764213889385114174543352137856680694687244097968099924183815689652779302937329729253678579649215884078334428338037327451220722810587680172255878795449524781554973097109174140632623167659027450550461045055883872225659796812847075286475208205923875668405160707778568995306926178023176315799965539425437791083258303238592641010878264249883586034912756021070468742995902773902487497010335873840408520900059054071283266816325489230566003110549946685475230821114509971542662742044237174282248020953398789607528748909125"
      ]
     },
     "execution_count": 3,
     "metadata": {},
     "output_type": "execute_result"
    }
   ],
   "source": [
    "def fib1(n):\n",
    "    assert n >= 0\n",
    "    f0, f1 = 0, 1\n",
    "    for i in range(n - 1):\n",
    "        f0, f1 = f1, f0 + f1\n",
    "    return f1\n",
    "\n",
    "fib1(8000)"
   ]
  },
  {
   "cell_type": "code",
   "execution_count": 26,
   "metadata": {},
   "outputs": [
    {
     "data": {
      "text/plain": [
       "3"
      ]
     },
     "execution_count": 26,
     "metadata": {},
     "output_type": "execute_result"
    }
   ],
   "source": [
    "def gcd(a, b):\n",
    "    assert a >= 0 and b >= 0\n",
    "    if a == 0 or b == 0:\n",
    "        return max(a, b)\n",
    "    return gcd(b % a, a)\n",
    "\n",
    "gcd(24, 9)"
   ]
  },
  {
   "cell_type": "code",
   "execution_count": 15,
   "metadata": {},
   "outputs": [
    {
     "name": "stdout",
     "output_type": "stream",
     "text": [
      "4\n",
      "1 3\n",
      "2 5\n",
      "4 7\n",
      "5 6\n",
      "[[2, 3], [4, 7], [5, 6]]\n"
     ]
    },
    {
     "ename": "IndexError",
     "evalue": "list index out of range",
     "output_type": "error",
     "traceback": [
      "\u001b[1;31m---------------------------------------------------------------------------\u001b[0m",
      "\u001b[1;31mIndexError\u001b[0m                                Traceback (most recent call last)",
      "\u001b[1;32m<ipython-input-15-c644bc63b7c5>\u001b[0m in \u001b[0;36m<module>\u001b[1;34m()\u001b[0m\n\u001b[0;32m     17\u001b[0m \u001b[1;33m\u001b[0m\u001b[0m\n\u001b[0;32m     18\u001b[0m     \u001b[1;32mfor\u001b[0m \u001b[0mj\u001b[0m \u001b[1;32min\u001b[0m \u001b[0mrange\u001b[0m\u001b[1;33m(\u001b[0m\u001b[1;36m1\u001b[0m\u001b[1;33m,\u001b[0m \u001b[0mlen\u001b[0m\u001b[1;33m(\u001b[0m\u001b[0mlines\u001b[0m\u001b[1;33m)\u001b[0m\u001b[1;33m)\u001b[0m\u001b[1;33m:\u001b[0m\u001b[1;33m\u001b[0m\u001b[0m\n\u001b[1;32m---> 19\u001b[1;33m         \u001b[1;32mif\u001b[0m \u001b[0mlines\u001b[0m\u001b[1;33m[\u001b[0m\u001b[0mi\u001b[0m\u001b[1;33m]\u001b[0m\u001b[1;33m[\u001b[0m\u001b[1;36m1\u001b[0m\u001b[1;33m]\u001b[0m \u001b[1;33m>=\u001b[0m \u001b[0mlines\u001b[0m\u001b[1;33m[\u001b[0m\u001b[0mj\u001b[0m\u001b[1;33m]\u001b[0m\u001b[1;33m[\u001b[0m\u001b[1;36m0\u001b[0m\u001b[1;33m]\u001b[0m\u001b[1;33m:\u001b[0m\u001b[1;33m\u001b[0m\u001b[0m\n\u001b[0m\u001b[0;32m     20\u001b[0m             \u001b[0ma\u001b[0m \u001b[1;33m=\u001b[0m \u001b[0mlines\u001b[0m\u001b[1;33m[\u001b[0m\u001b[0mj\u001b[0m\u001b[1;33m]\u001b[0m\u001b[1;33m[\u001b[0m\u001b[1;36m0\u001b[0m\u001b[1;33m]\u001b[0m\u001b[1;33m\u001b[0m\u001b[0m\n\u001b[0;32m     21\u001b[0m             \u001b[0mb\u001b[0m \u001b[1;33m=\u001b[0m \u001b[0mmin\u001b[0m\u001b[1;33m(\u001b[0m\u001b[0mlines\u001b[0m\u001b[1;33m[\u001b[0m\u001b[0mi\u001b[0m\u001b[1;33m]\u001b[0m\u001b[1;33m[\u001b[0m\u001b[1;36m1\u001b[0m\u001b[1;33m]\u001b[0m\u001b[1;33m,\u001b[0m \u001b[0mlines\u001b[0m\u001b[1;33m[\u001b[0m\u001b[0mj\u001b[0m\u001b[1;33m]\u001b[0m\u001b[1;33m[\u001b[0m\u001b[1;36m1\u001b[0m\u001b[1;33m]\u001b[0m\u001b[1;33m)\u001b[0m\u001b[1;33m\u001b[0m\u001b[0m\n",
      "\u001b[1;31mIndexError\u001b[0m: list index out of range"
     ]
    }
   ],
   "source": [
    "n = int(input())\n",
    "\n",
    "lines = []\n",
    "rightPoints = []\n",
    "points = []\n",
    "\n",
    "while n != 0:\n",
    "    a, b = map(int, input().split())\n",
    "    lines += [[a, b]]\n",
    "    #rightPoints.append(b)\n",
    "    n -= 1\n",
    "    \n",
    "lines.sort()\n",
    "cut = lines\n",
    "\n",
    "for i in range(len(lines)):\n",
    "    \n",
    "    for j in range(1, len(lines)):\n",
    "        if lines[i][1] >= lines[j][0]:\n",
    "            a = lines[j][0]\n",
    "            b = min(lines[i][1], lines[j][1])\n",
    "            cut.remove(cut[j])\n",
    "            cut.remove(cut[i])\n",
    "            cut.insert(0,[a,b])\n",
    "            print(cut)\n",
    "            \n",
    "\n",
    "\n",
    "print(lines)\n",
    "print(cut)\n",
    "#print(rightPoints)\n",
    "\n",
    "#for i in lines:\n",
    "#    #points = lines.pop(i)\n",
    "#    points += [i]\n",
    "#    lines.remove(i)\n",
    "#    for j in lines:\n",
    "#        if i[1] >= j[0]:\n",
    "#            lines.remove(j)\n",
    "#print(len(points))\n",
    "#for x in points:\n",
    "#    print(x[1], end=' ')\n"
   ]
  },
  {
   "cell_type": "code",
   "execution_count": 1,
   "metadata": {},
   "outputs": [
    {
     "name": "stdout",
     "output_type": "stream",
     "text": [
      "6\n",
      "1 3\n",
      "2 5\n",
      "3 4\n",
      "4 7\n",
      "5 6\n",
      "6 8\n",
      "2\n",
      "3 7 "
     ]
    }
   ],
   "source": [
    "n = int(input())\n",
    "\n",
    "lines = []\n",
    "rightPoints = []\n",
    "points = []\n",
    "\n",
    "while n != 0:\n",
    "    a, b = map(int, input().split())\n",
    "    lines += [[a, b]]\n",
    "    rightPoints.append(b)\n",
    "    n -= 1\n",
    "lines.sort()\n",
    "\n",
    "\n",
    "for i in lines:\n",
    "    #points = lines.pop(i)\n",
    "    points += [i]\n",
    "    lines.remove(i)\n",
    "    for j in lines:\n",
    "        if i[1] >= j[0]:\n",
    "            lines.remove(j)\n",
    "print(len(points))\n",
    "for x in points:\n",
    "    print(x[1], end=' ')"
   ]
  },
  {
   "cell_type": "code",
   "execution_count": null,
   "metadata": {},
   "outputs": [],
   "source": [
    "##### \n",
    "99999998 99999999\n",
    "11231 131331\n",
    "2432 542432\n",
    "99999999 100000001\n",
    "64324 8423\n",
    "Вот результат:\n",
    "3\n",
    "8423 131331 99999999"
   ]
  },
  {
   "cell_type": "code",
   "execution_count": 10,
   "metadata": {},
   "outputs": [
    {
     "name": "stdout",
     "output_type": "stream",
     "text": [
      "6\n",
      "1 3\n",
      "2 5\n",
      "3 4\n",
      "4 7\n",
      "5 6\n",
      "6 8\n",
      "2\n",
      "3 6 "
     ]
    }
   ],
   "source": [
    "n = int(input()) #Количество отрезков\n",
    "\n",
    "lines = [] #Список всех отрезков\n",
    "cut = [] #Итоговый список всех нужных отрезков\n",
    "\n",
    "while n != 0: #Вводим отрезки в цикле\n",
    "    a, b = map(int, input().split())\n",
    "    lines += [[a, b]]\n",
    "    n -= 1\n",
    "    \n",
    "lines.sort() #Сортируем по возрастанию начал отрезков\n",
    "\n",
    "\n",
    "#Возьму описание со стаковерфлоу\n",
    "#После сортировки станет [1 3] [2 5] [4 7] [5 6]. После первого сравнения [2 3] [4 7] [5 6]. \n",
    "#После второго сравнения [2 3] [4 7] [5 6]. После третьего сравнения [2 3] [5 6]. \n",
    "#Закончили обрабатывать, тогда подойдёт любая точка из первого и любая из второго. 3, 6, равно как и 3, 5 подходят.\n",
    "\n",
    "for i in range(len(lines)-1):                \n",
    "    if lines[i][1] >= lines[i+1][0]:  #Циклом беру первый отрезок и сравниваю со вторым [1,3] [2,5], \n",
    "                                        #Если конец певрого (3) больше начала второго (2)\n",
    "        a = lines[i + 1][0]           #тогда заменяю в итоговом отрезке конец первого на начало второго, т.е на 2\n",
    "        b = min(lines[i][1], lines[i+1][1])#и заменяю в итоговом отрезке на меньшее значение из двух концов отрезков, т.е на 3\n",
    "        lines.remove(lines[i+1]) #удаляю из списка  отрезков сравниваемые отрезки\n",
    "        lines.remove(lines[i]) #\n",
    "        lines.insert(i,[])# и вставляю на мета удаленных один пустой список (чтобы цикл продолжил работать и не выдал ошибку диапазона)\n",
    "        lines.insert(i+1,[a,b])#и один получившийся при сравнении (пересекающийся участок двух отрезков)\n",
    "\n",
    "for x in lines: #удаляю все пустые списки - отрезки\n",
    "    if x != []:\n",
    "        cut += [x]\n",
    "\n",
    "print(len(cut)) #вывожу количество найденных множеств (пересений отрезков)\n",
    "for y in cut:\n",
    "    print(y[1], end=' ') #вывожу по одной точке из каждого полученного пересечения (в данном случае правые точки множеств)\n",
    "\n"
   ]
  },
  {
   "cell_type": "code",
   "execution_count": null,
   "metadata": {},
   "outputs": [],
   "source": [
    "#1\n",
    "lst = list()\n",
    "for i in range(int(input())):\n",
    "    a, b = map(int, input().split())\n",
    "    lst.append([b, a])\n",
    "lst.sort()\n",
    "output = list()\n",
    "output.append(lst[0][0])\n",
    "for i in range(len(lst)):\n",
    "    if lst[i][1] > output[-1]:\n",
    "        output.append(lst[i][0])\n",
    "print(len(output))\n",
    "print(*output)"
   ]
  },
  {
   "cell_type": "code",
   "execution_count": null,
   "metadata": {},
   "outputs": [],
   "source": [
    "#2\n",
    "segs = sorted([[int(i) for i in input().split()] for j in range(int(input()))])\n",
    "dots = []\n",
    "while segs:\n",
    "    dots.append(segs[-1][0])\n",
    "    while segs and dots[-1] <= segs[-1][1]:\n",
    "        segs.pop()\n",
    "print(str(len(dots))+'\\n'+' '.join(map(str, dots)))"
   ]
  },
  {
   "cell_type": "code",
   "execution_count": 7,
   "metadata": {},
   "outputs": [
    {
     "data": {
      "text/plain": [
       "[[0, 0, 0, 0, 0, 0, 0],\n",
       " [0, 1, 1, 1, 1, 1, 1],\n",
       " [0, 1, 2, 2, 2, 2, 2],\n",
       " [0, 1, 2, 2, 3, 3, 3],\n",
       " [0, 1, 2, 2, 3, 3, 3],\n",
       " [0, 1, 2, 2, 3, 3, 3],\n",
       " [0, 1, 2, 2, 3, 3, 3],\n",
       " [0, 1, 2, 2, 3, 4, 4],\n",
       " [0, 1, 2, 2, 3, 4, 5]]"
      ]
     },
     "execution_count": 7,
     "metadata": {},
     "output_type": "execute_result"
    }
   ],
   "source": [
    "#Тимофей\n",
    "\n",
    "def lcd(A,B):\n",
    "    F = [[0] * (len(B)+1) for i in range(len(A)+1)]\n",
    "    for i in range(1, len(A)+1):\n",
    "        for j in range(1, len(B)+1):\n",
    "            if A[i-1] == B[j-1]:\n",
    "                F[i][j] = 1 + F[i-1][j-1]\n",
    "            else:\n",
    "                F[i][j] = max(F[i-1][j], F[i][j-1])\n",
    "    return F\n",
    "\n",
    "\n",
    "A = ['a','b','c','d','a','c','e','f']\n",
    "B = ['a','b','b','c','e','f']\n",
    "\n",
    "lcd(A,B)"
   ]
  },
  {
   "cell_type": "code",
   "execution_count": 6,
   "metadata": {},
   "outputs": [
    {
     "data": {
      "text/plain": [
       "[[0, 0, 0, 0, 0, 0, 0],\n",
       " [0, 0, 0, 0, 0, 0, 0],\n",
       " [0, 0, 0, 0, 0, 0, 0],\n",
       " [0, 0, 0, 0, 0, 0, 0],\n",
       " [0, 0, 0, 0, 0, 0, 0],\n",
       " [0, 0, 0, 0, 0, 0, 0],\n",
       " [0, 0, 0, 0, 0, 0, 0]]"
      ]
     },
     "execution_count": 6,
     "metadata": {},
     "output_type": "execute_result"
    }
   ],
   "source": [
    "A = [1,2,3,4,5,6]\n",
    "B = [1,2,3,4,5,6]\n",
    "\n",
    "lcd(A,B)"
   ]
  },
  {
   "cell_type": "code",
   "execution_count": 4,
   "metadata": {},
   "outputs": [
    {
     "name": "stdout",
     "output_type": "stream",
     "text": [
      "10 2\n",
      "1\n"
     ]
    }
   ],
   "source": [
    "def fib_mod(n, m):\n",
    "    a, b = 0, 1\n",
    "    for i in range(2, n+1):\n",
    "        a, b = b, a + b\n",
    "    return b % m\n",
    "\n",
    "\n",
    "def main():\n",
    "    n, m = map(int, input().split())\n",
    "    print(fib_mod(n, m))\n",
    "\n",
    "\n",
    "if __name__ == \"__main__\":\n",
    "    main()"
   ]
  },
  {
   "cell_type": "code",
   "execution_count": null,
   "metadata": {},
   "outputs": [],
   "source": []
  }
 ],
 "metadata": {
  "kernelspec": {
   "display_name": "Python 3",
   "language": "python",
   "name": "python3"
  },
  "language_info": {
   "codemirror_mode": {
    "name": "ipython",
    "version": 3
   },
   "file_extension": ".py",
   "mimetype": "text/x-python",
   "name": "python",
   "nbconvert_exporter": "python",
   "pygments_lexer": "ipython3",
   "version": "3.7.0"
  }
 },
 "nbformat": 4,
 "nbformat_minor": 2
}
